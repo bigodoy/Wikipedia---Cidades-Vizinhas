{
 "cells": [
  {
   "cell_type": "raw",
   "metadata": {},
   "source": [
    "O Objetivo é extrair uma base que contenha todos os pares de estados vizinhos do Brasil"
   ]
  },
  {
   "cell_type": "code",
   "execution_count": 52,
   "metadata": {
    "ExecuteTime": {
     "end_time": "2019-03-24T01:40:05.795617Z",
     "start_time": "2019-03-24T01:40:03.226490Z"
    }
   },
   "outputs": [],
   "source": [
    "import pandas as pd\n",
    "import requests\n",
    "from bs4 import BeautifulSoup"
   ]
  },
  {
   "cell_type": "code",
   "execution_count": 1,
   "metadata": {
    "ExecuteTime": {
     "end_time": "2019-03-24T01:15:19.002836Z",
     "start_time": "2019-03-24T01:15:16.631912Z"
    }
   },
   "outputs": [],
   "source": [
    "website_url = requests.get('https://pt.wikipedia.org/wiki/S%C3%A3o_Paulo_(estado)').text\n",
    "soup = BeautifulSoup(website_url,'lxml')\n",
    "# print(soup.prettify())\n",
    "\n",
    "My_table = soup.find('table')\n",
    "My_table"
   ]
  },
  {
   "cell_type": "code",
   "execution_count": 51,
   "metadata": {
    "ExecuteTime": {
     "end_time": "2019-03-24T01:37:42.048122Z",
     "start_time": "2019-03-24T01:37:41.079741Z"
    }
   },
   "outputs": [
    {
     "name": "stdout",
     "output_type": "stream",
     "text": [
      "['Paraná', 'Mato Grosso do Sul', 'Minas Gerais', 'Rio de Janeiro']\n",
      "[['/wiki/Paran%C3%A1'], ['/wiki/Mato_Grosso_do_Sul'], ['/wiki/Minas_Gerais'], ['/wiki/Rio_de_Janeiro_(estado)']]\n"
     ]
    }
   ],
   "source": [
    "i =0\n",
    "links = My_table.find(title=\"Fronteira\")\n",
    "texto = []\n",
    "hrefs = []\n",
    "while i == 0:\n",
    "    if links.find_next('a').text != \"Regiões geográficas intermediárias\":\n",
    "        links = links.find_next('a')\n",
    "        texto.append(links.text)\n",
    "        hrefs.append([links.get('href')])\n",
    "    else:\n",
    "        i=1\n",
    "        \n",
    "df = pd.DataFrame([texto, hrefs] ).T\n",
    "df.columns = ['Estado_Vizinho', 'link_wikipedia']\n",
    "df"
   ]
  }
 ],
 "metadata": {
  "kernelspec": {
   "display_name": "Python 3",
   "language": "python",
   "name": "python3"
  },
  "language_info": {
   "codemirror_mode": {
    "name": "ipython",
    "version": 3
   },
   "file_extension": ".py",
   "mimetype": "text/x-python",
   "name": "python",
   "nbconvert_exporter": "python",
   "pygments_lexer": "ipython3",
   "version": "3.6.8"
  },
  "toc": {
   "base_numbering": 1,
   "nav_menu": {},
   "number_sections": true,
   "sideBar": true,
   "skip_h1_title": false,
   "title_cell": "Table of Contents",
   "title_sidebar": "Contents",
   "toc_cell": false,
   "toc_position": {},
   "toc_section_display": true,
   "toc_window_display": true
  },
  "varInspector": {
   "cols": {
    "lenName": 16,
    "lenType": 16,
    "lenVar": 40
   },
   "kernels_config": {
    "python": {
     "delete_cmd_postfix": "",
     "delete_cmd_prefix": "del ",
     "library": "var_list.py",
     "varRefreshCmd": "print(var_dic_list())"
    },
    "r": {
     "delete_cmd_postfix": ") ",
     "delete_cmd_prefix": "rm(",
     "library": "var_list.r",
     "varRefreshCmd": "cat(var_dic_list()) "
    }
   },
   "types_to_exclude": [
    "module",
    "function",
    "builtin_function_or_method",
    "instance",
    "_Feature"
   ],
   "window_display": false
  }
 },
 "nbformat": 4,
 "nbformat_minor": 2
}
